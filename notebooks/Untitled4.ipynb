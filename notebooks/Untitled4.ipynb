{
 "cells": [
  {
   "cell_type": "code",
   "execution_count": null,
   "id": "de944acb-114d-4c40-8bab-686d808bd0aa",
   "metadata": {},
   "outputs": [],
   "source": [
    "!pip install devex_sdk"
   ]
  },
  {
   "cell_type": "code",
   "execution_count": null,
   "id": "e9e0f5c7-d921-4db2-998b-653a160b2e64",
   "metadata": {},
   "outputs": [],
   "source": [
    "\n",
    "from devex_sdk import setup_runner\n",
    "setup_runner()\n",
    "\n",
    "from devex_sdk import Spark_Data_Connector, Nested_Json_Connector\n",
    "from pyspark.sql.functions import col, count\n",
    "import pyspark.sql.functions as F\n",
    "from devex_sdk import Spark_Data_Connector, Nested_Json_Connector\n",
    "from pyspark.sql.functions import col, count\n",
    "import pyspark.sql.functions as F\n",
    "\n",
    "json_object_path = 'prometheus-tsdb-dump/df75.json'\n",
    "obj = Nested_Json_Connector(json_object_path)\n",
    "err, df1 = obj.read_nested_json()"
   ]
  }
 ],
 "metadata": {
  "instance_type": "ml.m5.12xlarge",
  "kernelspec": {
   "display_name": "",
   "name": ""
  },
  "language_info": {
   "name": ""
  }
 },
 "nbformat": 4,
 "nbformat_minor": 5
}
